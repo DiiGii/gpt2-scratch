{
  "cells": [
    {
      "cell_type": "markdown",
      "metadata": {
        "id": "view-in-github",
        "colab_type": "text"
      },
      "source": [
        "<a href=\"https://colab.research.google.com/github/DiiGii/gpt2-scratch/blob/main/gpt2_embeddings.ipynb\" target=\"_parent\"><img src=\"https://colab.research.google.com/assets/colab-badge.svg\" alt=\"Open In Colab\"/></a>"
      ]
    },
    {
      "cell_type": "markdown",
      "id": "612265b0-24db-419e-a711-b34199192c04",
      "metadata": {
        "id": "612265b0-24db-419e-a711-b34199192c04"
      },
      "source": [
        "# Embeddings: Converting text into numbers\n",
        "\n",
        "**Embeddings** are dense, low-dimensional vector representations of discrete data like words, phrases, or even entire documents. Instead of representing items as one-hot encoded vectors (long vectors with a single '1' and many '0's), embeddings map them to continuous vector spaces where semantically similar items are located closer to each other. This allows machine learning models to capture relationships and similarities between items more effectively."
      ]
    },
    {
      "cell_type": "markdown",
      "id": "972c7c80-d274-480b-ad72-bccc3ad359be",
      "metadata": {
        "id": "972c7c80-d274-480b-ad72-bccc3ad359be"
      },
      "source": [
        "## ML Models operate on numerical data\n",
        "Recall from last week that neural networks operate on tensors. They cannot directly process raw text. If this is the case, how can we pass in a sentence into a transformer?\n",
        "\n",
        "We need a way to convert strings into tensors in a way that:\n",
        "1. Preserves semantic meaning (e.g the underlying meaning of the words)\n",
        "2. Captures relationships between words and characters (\"Joe\" comes before \"Biden\").\n",
        "\n",
        "To embed text, we need to create two components:\n",
        "1. The tokenizer: Splits your text into \"tokens\", or atomic elements that we convert into vectors. If we have the sentence \"Lobsters are tasty\", a valid tokenization would be [\"Lobsters\",\"are\",\"tasty\"]. Alternatively, we might tokenize by character, yielding [\"L\",\"o\",\"b\",\"s\"...]. Modern large language models use more complex tokenization schemes that account for optimal encoding of common strings (such that the most frequently-used phrases are tokenized into single tokens). Those of you familiar with Huffman encoding may find the type of encoding we'll implement later on in the quarter, [Byte Pair Encoding](https://huggingface.co/learn/nlp-course/en/chapter6/5), similar. Don't worry if you're not familiar with this for now. The tokenizer converts text into [one-hot vectors](https://en.wikipedia.org/wiki/One-hot).\n",
        "2. The embedding layer: Projects the one-hot encoded vectors into a fixed-dimensional vector space."
      ]
    },
    {
      "cell_type": "markdown",
      "id": "5dfb6e43-6746-496c-b21b-e576400e8371",
      "metadata": {
        "id": "5dfb6e43-6746-496c-b21b-e576400e8371"
      },
      "source": [
        "### Tokenization\n",
        "Examples:\n",
        "\n",
        "- Word-level: \"I love machine learning\" -> [\"I\", \"love\", \"machine\", \"learning\"]\n",
        "- Character-level: \"Hello\" -> [\"H\", \"e\", \"l\", \"l\", \"o\"]\n",
        "- Subword-level: \"unbelievable\" -> [\"un\", \"believe\", \"able\"]\n",
        "\n",
        "For the sake of simplicity, we'll use character-level tokenization."
      ]
    },
    {
      "cell_type": "code",
      "execution_count": null,
      "id": "fe53d384-dc30-40a5-a295-9fbba8a39b11",
      "metadata": {
        "id": "fe53d384-dc30-40a5-a295-9fbba8a39b11",
        "outputId": "3d6f835e-a023-4fd7-a9ed-336eba8d44e9",
        "colab": {
          "base_uri": "https://localhost:8080/"
        }
      },
      "outputs": [
        {
          "output_type": "stream",
          "name": "stdout",
          "text": [
            "Tokens: ['H', 'e', 'l', 'l', 'o', ',', ' ', 'W', 'o', 'r', 'l', 'd', '!']\n"
          ]
        }
      ],
      "source": [
        "import torch\n",
        "from typing import List\n",
        "from torch.nn import functional as F\n",
        "\n",
        "vocab = \"\"\"abcdefghijklmnopqrstuvwxyzABCDEFGHIJKLMNOPQRSTUVWXYZ., '\\\"\"()[]!?\"\"\"\n",
        "\n",
        "# Exercise 1:\n",
        "def tokenize(text: str) -> List[str]:\n",
        "    # TODO: Split text into tokens. Your output should be a list of tokens.\n",
        "    return [s for s in text if s in vocab]\n",
        "    # For this task, you should be sure to encode all characters from a-z and A-Z, as well as [. , ' \" () ]. I've provided the list above.\n",
        "    pass\n",
        "\n",
        "text = \"Hello, World!\"\n",
        "tokens = tokenize(text)\n",
        "print(\"Tokens:\", tokens)"
      ]
    },
    {
      "cell_type": "markdown",
      "id": "bc0f17a0-c943-4898-8afa-cd910e541c20",
      "metadata": {
        "id": "bc0f17a0-c943-4898-8afa-cd910e541c20"
      },
      "source": [
        "Now, we want to convert the list of tokens into orthogonal vectors in a high-dimensional space. As an example, if we only had the letters \"a\", \"b\", and \"c\", we can encode \"a\" as [1, 0, 0], \"b\" as [0, 1, 0], and \"c\" as [0, 0, 1]. As a reminder, orthogonal vectors are perpendicular to each other; if you were to take the dot product between two orthogonal vectors, you would get zero. Right now, these orthogonal representations mean that the representations of each character is completely independent of the representations of the others. This isn't the final behavior we want to have; we'd like text with similar meanings to have vectors that are closer to each other in the high-dimensional space.\n",
        "\n",
        "Food for thought: Why would we want to have that?"
      ]
    },
    {
      "cell_type": "markdown",
      "id": "45254840-4b15-49e9-8479-d5f8d4541e77",
      "metadata": {
        "id": "45254840-4b15-49e9-8479-d5f8d4541e77"
      },
      "source": [
        "### Reading Documentation\n",
        "Frequently when writing your own ML code, you'll have to read documentation provided by `pytorch`, `huggingface`, or your preferred framework. Here's an easy example to get started:\n",
        "Read [the documentation](https://pytorch.org/docs/stable/generated/torch.nn.functional.one_hot.html) of torch's `functional.one_hot` function. I've written out the code that converts your tokens into a list of numerical indices; if you had ['a','b','c'], now you'll have [1,2,3]. Can you transform this into a 2D tensor of orthogonal vectors using `functional.one_hot`?\n",
        "\n",
        "Feel free to ask us for help!"
      ]
    },
    {
      "cell_type": "code",
      "execution_count": null,
      "id": "fab88763-48a3-4d56-8b2c-b396d79db39f",
      "metadata": {
        "id": "fab88763-48a3-4d56-8b2c-b396d79db39f",
        "outputId": "3789f591-e1a2-4d9f-d33f-58e3efe62031",
        "colab": {
          "base_uri": "https://localhost:8080/"
        }
      },
      "outputs": [
        {
          "output_type": "stream",
          "name": "stdout",
          "text": [
            "Tokens: ['H', 'e', 'l', 'l', 'o', ',', ' ', 'W', 'o', 'r', 'l', 'd', '!']\n",
            "Vector shape: torch.Size([13, 64])\n",
            "Reconstructed text: Hello, World!\n"
          ]
        }
      ],
      "source": [
        "char_to_index = {char: idx for idx, char in enumerate(vocab)}\n",
        "index_to_char = {idx: char for char, idx in char_to_index.items()}\n",
        "\n",
        "def vectorize(tokens: List[str]) -> torch.Tensor:\n",
        "    indices = torch.tensor([char_to_index[char] for char in tokens])\n",
        "    # TODO: Convert this list of indices into an orthogonal vector.\n",
        "    return F.one_hot(indices, num_classes=len(vocab)).float()\n",
        "\n",
        "\n",
        "def detokenize(tensor: torch.Tensor):\n",
        "    indices = tensor.argmax(dim=-1).tolist()\n",
        "    return ''.join(index_to_char[idx] for idx in indices)\n",
        "\n",
        "text = \"Hello, World!\"\n",
        "tokens = tokenize(text)\n",
        "print(\"Tokens:\", tokens)\n",
        "\n",
        "vector = vectorize(tokens)\n",
        "print(\"Vector shape:\", vector.shape)\n",
        "\n",
        "reconstructed_text = detokenize(vector)\n",
        "print(\"Reconstructed text:\", reconstructed_text)\n",
        "\n",
        "assert text == reconstructed_text"
      ]
    },
    {
      "cell_type": "markdown",
      "id": "d0a432ef-956d-4089-9e11-c6f412d35c63",
      "metadata": {
        "id": "d0a432ef-956d-4089-9e11-c6f412d35c63"
      },
      "source": [
        "### Embedding Layer\n",
        "The embedding layer is a linear projection of your one-hot vectors into a shared dimensional space. Its job is to **add meaning**: to convert the token representations into vectors that contain meaning.\n",
        "\n",
        "Ideally, the delta between representations is meaningful. In the image below, if you did the vector operation `woman - girl + boy`, you'd get a vector close in vector space to `man`.\n",
        "\n",
        "The core idea within the transformer architecture is that **vectors represent semantics**. At each layer of a transformer, attention heads act to process relationships between vectors at different token positions, while MLPs act to transform vectors within the same token position. Don't worry about this for now: We'll get more into it later."
      ]
    },
    {
      "cell_type": "code",
      "execution_count": null,
      "id": "169f14d1-c1db-4fd2-97f9-2187ed6c7c7f",
      "metadata": {
        "id": "169f14d1-c1db-4fd2-97f9-2187ed6c7c7f",
        "outputId": "c37ca772-7113-47ac-ba39-4d683ea2e00b",
        "colab": {
          "base_uri": "https://localhost:8080/"
        }
      },
      "outputs": [
        {
          "output_type": "stream",
          "name": "stdout",
          "text": [
            "Input shape: torch.Size([2, 5, 64])\n",
            "Projected embedding shape: torch.Size([2, 5, 16])\n",
            "Shape verification passed!\n"
          ]
        }
      ],
      "source": [
        "# Exercise: Write a class that inherits from nn.Module that projects vectors from a tensor into a given dimensionality.\n",
        "\n",
        "import torch.nn as nn\n",
        "# TODO: Create the EmbeddingProjection class.\n",
        "# If you need review, look at last week's notebook.\n",
        "# Note: Turn bias off in your linear layer!\n",
        "# ----------------------\n",
        "\n",
        "# Your class is initialized like so:\n",
        "class EmbeddingProjection(nn.Module):\n",
        "    def __init__(self, vocab_size, embedding_dim):\n",
        "        super().__init__()\n",
        "        self.linear = nn.Linear(vocab_size, embedding_dim, bias=False)\n",
        "    def forward(self, x):\n",
        "      return self.linear(x)\n",
        "\n",
        "\n",
        "vocab_size = len(vocab)  # Size of our character vocabulary\n",
        "embedding_dim = 16  # Desired embedding dimensionality\n",
        "embedding_proj = EmbeddingProjection(vocab_size, embedding_dim)\n",
        "\n",
        "# Test cases:\n",
        "batch_size = 2\n",
        "sequence_length = 5\n",
        "sample_input = torch.randn(batch_size, sequence_length, vocab_size)\n",
        "projected_embedding = embedding_proj(sample_input)\n",
        "\n",
        "print(f\"Input shape: {sample_input.shape}\")\n",
        "print(f\"Projected embedding shape: {projected_embedding.shape}\")\n",
        "\n",
        "assert projected_embedding.shape == (batch_size, sequence_length, embedding_dim), \"Output shape is incorrect\"\n",
        "print(\"Shape verification passed!\")"
      ]
    },
    {
      "cell_type": "markdown",
      "id": "c5f4bcc3-9532-458c-94aa-48e64a906f19",
      "metadata": {
        "id": "c5f4bcc3-9532-458c-94aa-48e64a906f19"
      },
      "source": [
        "Now that we've created our embedding layer, let's try training it!\n",
        "\n",
        "Don't worry about implementing the code below, though ask us if you have any questions about what each step is doing."
      ]
    },
    {
      "cell_type": "code",
      "execution_count": null,
      "id": "2a7458f1-b166-4d63-8178-e279349736c8",
      "metadata": {
        "id": "2a7458f1-b166-4d63-8178-e279349736c8",
        "outputId": "5371fd67-eda4-4819-948b-440896176cce",
        "colab": {
          "base_uri": "https://localhost:8080/"
        }
      },
      "outputs": [
        {
          "output_type": "stream",
          "name": "stdout",
          "text": [
            "SmallTransformer(\n",
            "  (embedding): EmbeddingProjection(\n",
            "    (linear): Linear(in_features=64, out_features=128, bias=False)\n",
            "  )\n",
            "  (transformer_encoder): TransformerEncoder(\n",
            "    (layers): ModuleList(\n",
            "      (0-1): 2 x TransformerEncoderLayer(\n",
            "        (self_attn): MultiheadAttention(\n",
            "          (out_proj): NonDynamicallyQuantizableLinear(in_features=128, out_features=128, bias=True)\n",
            "        )\n",
            "        (linear1): Linear(in_features=128, out_features=512, bias=True)\n",
            "        (dropout): Dropout(p=0.05, inplace=False)\n",
            "        (linear2): Linear(in_features=512, out_features=128, bias=True)\n",
            "        (norm1): LayerNorm((128,), eps=1e-05, elementwise_affine=True)\n",
            "        (norm2): LayerNorm((128,), eps=1e-05, elementwise_affine=True)\n",
            "        (dropout1): Dropout(p=0.05, inplace=False)\n",
            "        (dropout2): Dropout(p=0.05, inplace=False)\n",
            "      )\n",
            "    )\n",
            "  )\n",
            "  (linear): Linear(in_features=128, out_features=64, bias=True)\n",
            ")\n"
          ]
        },
        {
          "output_type": "stream",
          "name": "stderr",
          "text": [
            "/usr/local/lib/python3.10/dist-packages/torch/nn/modules/transformer.py:379: UserWarning: enable_nested_tensor is True, but self.use_nested_tensor is False because encoder_layer.self_attn.batch_first was not True(use batch_first for better inference performance)\n",
            "  warnings.warn(\n"
          ]
        }
      ],
      "source": [
        "import math\n",
        "class SmallTransformer(nn.Module):\n",
        "    def __init__(self, vocab_size, d_model, nhead, num_layers):\n",
        "        super().__init__()\n",
        "        self.embedding = EmbeddingProjection(vocab_size, d_model)\n",
        "        encoder_layers = nn.TransformerEncoderLayer(d_model, nhead, dim_feedforward=512, dropout=0.05)\n",
        "        self.transformer_encoder = nn.TransformerEncoder(encoder_layers, num_layers)\n",
        "        self.d_model = d_model\n",
        "        self.linear = nn.Linear(d_model, vocab_size)\n",
        "\n",
        "    def forward(self, src, src_mask):\n",
        "        src = self.embedding(src) * math.sqrt(self.d_model)\n",
        "        output = self.transformer_encoder(src, src_mask)\n",
        "        output = self.linear(output)\n",
        "\n",
        "        return output\n",
        "\n",
        "# Initialize the model\n",
        "vocab_size = len(vocab)\n",
        "d_model = 128\n",
        "nhead = 4\n",
        "num_layers = 2\n",
        "model = SmallTransformer(vocab_size, d_model, nhead, num_layers)\n",
        "print(model)"
      ]
    },
    {
      "cell_type": "code",
      "execution_count": null,
      "id": "53ff24c0-ac83-4218-b939-2a04892a8bac",
      "metadata": {
        "id": "53ff24c0-ac83-4218-b939-2a04892a8bac",
        "outputId": "d0672472-9ffe-4603-c92e-73a52af48e0f",
        "colab": {
          "base_uri": "https://localhost:8080/"
        }
      },
      "outputs": [
        {
          "output_type": "stream",
          "name": "stderr",
          "text": [
            "/usr/local/lib/python3.10/dist-packages/torch/nn/modules/transformer.py:379: UserWarning: enable_nested_tensor is True, but self.use_nested_tensor is False because encoder_layer.self_attn.batch_first was not True(use batch_first for better inference performance)\n",
            "  warnings.warn(\n"
          ]
        },
        {
          "output_type": "stream",
          "name": "stdout",
          "text": [
            "Epoch 1, Batch 0, Loss: 1.8361\n",
            "Epoch 1, Batch 100, Loss: 1.4419\n",
            "Epoch 1, Batch 200, Loss: 1.4279\n",
            "Epoch 1, Batch 300, Loss: 1.4208\n",
            "Epoch 1, Batch 400, Loss: 1.4300\n",
            "Epoch 1, Batch 500, Loss: 1.4342\n",
            "Epoch 1, Batch 600, Loss: 1.4492\n",
            "Epoch 1, Batch 700, Loss: 1.4491\n",
            "Epoch 1, Batch 800, Loss: 1.4360\n",
            "Epoch 1, Batch 900, Loss: 1.4397\n",
            "Epoch 1, Batch 1000, Loss: 1.4244\n",
            "Epoch 1, Batch 1100, Loss: 1.3992\n",
            "Epoch 1, Batch 1200, Loss: 1.4528\n",
            "Epoch 1, Batch 1300, Loss: 1.4202\n",
            "Epoch 1, Batch 1400, Loss: 1.4300\n",
            "Epoch 1, Batch 1500, Loss: 1.4402\n",
            "Epoch 1, Batch 1600, Loss: 1.4221\n",
            "Epoch 1, Batch 1700, Loss: 1.4127\n",
            "Epoch 1, Batch 1800, Loss: 1.4045\n",
            "Epoch 1, Batch 1900, Loss: 1.4781\n",
            "Epoch 1, Batch 2000, Loss: 1.4250\n",
            "Epoch 1, Batch 2100, Loss: 1.4257\n",
            "Epoch 1, Batch 2200, Loss: 1.4173\n",
            "Epoch 1, Batch 2300, Loss: 1.4081\n",
            "Epoch 1, Batch 2400, Loss: 1.4131\n",
            "Epoch 1, Batch 2500, Loss: 1.4274\n",
            "Epoch 1, Batch 2600, Loss: 1.4349\n",
            "Epoch 1, Batch 2700, Loss: 1.4694\n",
            "Epoch 1, Batch 2800, Loss: 1.4182\n",
            "Epoch 1 completed. Average Loss: 1.4317\n"
          ]
        }
      ],
      "source": [
        "import torch.optim as optim\n",
        "from torch.utils.data import Dataset, DataLoader\n",
        "import requests\n",
        "import io\n",
        "import random\n",
        "\n",
        "import torch\n",
        "import math\n",
        "import seaborn as sns\n",
        "\n",
        "\n",
        "\n",
        "# sns.heatmap(positional_encoding(50, 20).T)\n",
        "\n",
        "class TextDataset(Dataset):\n",
        "    def __init__(self, text, seq_length):\n",
        "        self.text = text\n",
        "        self.seq_length = seq_length\n",
        "        self.tokens = tokenize(text)\n",
        "\n",
        "    def __len__(self):\n",
        "        return len(self.tokens) - self.seq_length\n",
        "\n",
        "    def __getitem__(self, idx):\n",
        "        input_seq = self.tokens[idx:idx+self.seq_length]\n",
        "        target_seq = self.tokens[idx+1:idx+self.seq_length+1]\n",
        "        return vectorize(input_seq), vectorize(target_seq)\n",
        "\n",
        "# Download toy data (Shakespeare sonnets)\n",
        "url = \"https://www.gutenberg.org/files/1041/1041-0.txt\"\n",
        "response = requests.get(url)\n",
        "text = response.text.split(\"THE SONNETS\", 1)[1].split(\"End of the Project Gutenberg EBook\", 1)[0]\n",
        "\n",
        "# Prepare the dataset\n",
        "seq_length = 32\n",
        "dataset = TextDataset(text, seq_length)\n",
        "dataloader = DataLoader(dataset, batch_size=32, shuffle=True)\n",
        "\n",
        "# Initialize the model, loss function, and optimizer\n",
        "model = SmallTransformer(vocab_size, d_model, nhead, num_layers)\n",
        "criterion = nn.CrossEntropyLoss()\n",
        "optimizer = optim.Adam(model.parameters(), lr=0.001)\n",
        "\n",
        "# Training loop\n",
        "num_epochs = 1\n",
        "device = torch.device(\"cuda\" if torch.cuda.is_available() else \"cpu\")\n",
        "model.to(device)\n",
        "\n",
        "for epoch in range(num_epochs):\n",
        "    model.train()\n",
        "    total_loss = 0\n",
        "    for batch, (input_seq, target_seq) in enumerate(dataloader):\n",
        "        input_seq, target_seq = input_seq.to(device), target_seq.to(device)\n",
        "\n",
        "        optimizer.zero_grad()\n",
        "\n",
        "        # Create mask to hide future tokens\n",
        "        src_mask = nn.Transformer.generate_square_subsequent_mask(len(input_seq)).to(device)\n",
        "\n",
        "        output = model(input_seq, src_mask)\n",
        "        loss = criterion(output, target_seq)\n",
        "\n",
        "        loss.backward()\n",
        "        optimizer.step()\n",
        "\n",
        "        total_loss += loss.item()\n",
        "\n",
        "        if batch % 100 == 0:\n",
        "            print(f\"Epoch {epoch+1}, Batch {batch}, Loss: {loss.item():.4f}\")\n",
        "\n",
        "    avg_loss = total_loss / len(dataloader)\n",
        "    print(f\"Epoch {epoch+1} completed. Average Loss: {avg_loss:.4f}\")"
      ]
    },
    {
      "cell_type": "code",
      "execution_count": null,
      "id": "fdf059dd-6ddb-4b73-8fec-73991a381b75",
      "metadata": {
        "id": "fdf059dd-6ddb-4b73-8fec-73991a381b75",
        "outputId": "f3209490-be20-4716-953c-1100b2cefb6b",
        "colab": {
          "base_uri": "https://localhost:8080/"
        }
      },
      "outputs": [
        {
          "output_type": "stream",
          "name": "stderr",
          "text": [
            "<ipython-input-6-384a9b2de4b3>:4: UserWarning: To copy construct from a tensor, it is recommended to use sourceTensor.clone().detach() or sourceTensor.clone().detach().requires_grad_(True), rather than torch.tensor(sourceTensor).\n",
            "  input_seq = torch.tensor(vectorize(tokenize(start_text))).unsqueeze(0).to(device)\n"
          ]
        },
        {
          "output_type": "stream",
          "name": "stdout",
          "text": [
            "Generated text:\n",
            "Shall I compare thee to a summer's day?Kh!,h,h.,h,,h,h,,h,,,,,,,,,,,,,,,,,,,,,,,,,,,,,,,,,,,,,,,,,,,,,,,,,,,,,,,,,,,,,,,,,,,,,,,,,,,,,,,,,,\n"
          ]
        }
      ],
      "source": [
        "# Generate some text\n",
        "model.eval()\n",
        "start_text = \"Shall I compare thee to a summer's day?\"\n",
        "input_seq = torch.tensor(vectorize(tokenize(start_text))).unsqueeze(0).to(device)\n",
        "generated_text = start_text\n",
        "\n",
        "with torch.no_grad():\n",
        "    for _ in range(100):\n",
        "        src_mask = nn.Transformer.generate_square_subsequent_mask(input_seq.size(0)).to(device)\n",
        "        output = model(input_seq, src_mask)\n",
        "        next_char_index = output[0, -1, :].argmax().item()\n",
        "        next_char = index_to_char[next_char_index]\n",
        "        generated_text += next_char\n",
        "        input_seq = torch.cat([input_seq, output[:, -1, :].unsqueeze(1)], dim=1)\n",
        "\n",
        "print(\"Generated text:\")\n",
        "print(generated_text)"
      ]
    },
    {
      "cell_type": "markdown",
      "id": "ced06a81-5962-4c5c-9b83-c163dae355bf",
      "metadata": {
        "id": "ced06a81-5962-4c5c-9b83-c163dae355bf"
      },
      "source": [
        "This sucks. The reason why is that we're lacking:\n",
        "## Positional Encodings\n",
        "\n",
        "Now that we've tokenized our text and represented each token as an orthogonal vector, we need to consider an important aspect of language: the order of words matters. In the current representation, the model has no way of knowing the position of each token in the sequence. For instance, \"The cat sat on the mat\" and \"The mat sat on the cat\" would be represented identically, despite having very different meanings!\n",
        "\n",
        "This is where positional embeddings come in, allowing us to inject information about the position of each token into its representation. But how do we do this?\n",
        "\n",
        "One clever solution is sinusoidal positional embeddings. The idea is to add a unique positional vector to each token's embedding. These positional vectors are created using sine and cosine functions of different frequencies. Here's why this works so well:\n",
        "\n",
        "1. It can handle variable length sequences.\n",
        "2. It allows the model to easily learn to attend to relative positions.\n",
        "3. The pattern can be extrapolated to sequences longer than those seen during training.\n",
        "\n",
        "Here's a simplified implementation of sinusoidal positional embeddings:"
      ]
    },
    {
      "cell_type": "code",
      "execution_count": null,
      "id": "342c81d8-ea7e-42eb-9021-4055b97b5ac2",
      "metadata": {
        "id": "342c81d8-ea7e-42eb-9021-4055b97b5ac2",
        "outputId": "cb1ffc94-ec2f-4267-f0b4-f35c97ab24df",
        "colab": {
          "base_uri": "https://localhost:8080/",
          "height": 457
        }
      },
      "outputs": [
        {
          "output_type": "execute_result",
          "data": {
            "text/plain": [
              "<Axes: >"
            ]
          },
          "metadata": {},
          "execution_count": 7
        },
        {
          "output_type": "display_data",
          "data": {
            "text/plain": [
              "<Figure size 640x480 with 2 Axes>"
            ],
            "image/png": "[encoded data removed]"
          },
          "metadata": {}
        }
      ],
      "source": [
        "import torch\n",
        "import math\n",
        "import seaborn as sns\n",
        "\n",
        "def positional_encoding(seq_len, d_model):\n",
        "    position = torch.arange(seq_len).unsqueeze(1)\n",
        "    div_term = torch.exp(torch.arange(0, d_model, 2) * -(math.log(10000.0) / d_model))\n",
        "    pos_encoding = torch.zeros(seq_len, d_model)\n",
        "    pos_encoding[:, 0::2] = torch.sin(position * div_term)\n",
        "    pos_encoding[:, 1::2] = torch.cos(position * div_term)\n",
        "    return pos_encoding\n",
        "\n",
        "sns.heatmap(positional_encoding(50, 20).T)"
      ]
    },
    {
      "cell_type": "markdown",
      "id": "a5cd92e8-f87d-4c06-8448-f8c3cff2eaa4",
      "metadata": {
        "id": "a5cd92e8-f87d-4c06-8448-f8c3cff2eaa4"
      },
      "source": [
        "This function creates a unique positional encoding for each position in the sequence. When we add this to our token embeddings, each token now carries information about both its identity and its position in the sequence.\n",
        "\n",
        "To make use of these positional embeddings, we simply add them to the semantic embeddings (created by your linear projection in the embedding layer) at each token position.\n",
        "\n",
        "In the plot above, notice how at each token position (vertical column), the striping pattern is different and varies depending on the position. An interesting element to note about sinusoidal embeddings is that you can transform the embedding at a given position to the embedding at another position fairly easily using a single matrix transform. There's a significant amount of theory about positional embeddings and their functionality; if you're interested, I encourage you read [Relative Positional Embeddings](https://jaketae.github.io/study/relative-positional-encoding/) by Jake Tae."
      ]
    },
    {
      "cell_type": "code",
      "execution_count": null,
      "id": "5a545f35-f0b9-45e2-be8b-f121e6de6a67",
      "metadata": {
        "id": "5a545f35-f0b9-45e2-be8b-f121e6de6a67"
      },
      "outputs": [],
      "source": [
        "# Bonus Exercise: Retrain your transformer, but with PE!\n"
      ]
    }
  ],
  "metadata": {
    "kernelspec": {
      "display_name": "Python 3",
      "name": "python3"
    },
    "language_info": {
      "codemirror_mode": {
        "name": "ipython",
        "version": 3
      },
      "file_extension": ".py",
      "mimetype": "text/x-python",
      "name": "python",
      "nbconvert_exporter": "python",
      "pygments_lexer": "ipython3",
      "version": "3.10.13"
    },
    "colab": {
      "provenance": [],
      "gpuType": "T4",
      "include_colab_link": true
    },
    "accelerator": "GPU"
  },
  "nbformat": 4,
  "nbformat_minor": 5
}
